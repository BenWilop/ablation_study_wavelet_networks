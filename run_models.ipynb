{
 "cells": [
  {
   "cell_type": "code",
   "execution_count": 2,
   "metadata": {},
   "outputs": [
    {
     "name": "stdout",
     "output_type": "stream",
     "text": [
      "Hello World\n"
     ]
    }
   ],
   "source": [
    "import wave_networks.test as test\n",
    "\n",
    "test.hello_world()"
   ]
  },
  {
   "cell_type": "code",
   "execution_count": null,
   "metadata": {},
   "outputs": [],
   "source": [
    "# https://soundata.readthedocs.io/en/latest/source/tutorial.html\n",
    "import soundata\n",
    "urbansound8k = soundata.initialize('urbansound8k', data_home='/homes/55/bwilop/gdl/ablation_study_wavelet_networks/data')\n",
    "# urbansound8k.download()  \n",
    "# urbansound8k.validate() "
   ]
  },
  {
   "cell_type": "code",
   "execution_count": 4,
   "metadata": {},
   "outputs": [
    {
     "name": "stderr",
     "output_type": "stream",
     "text": [
      "/homes/55/bwilop/gdl/wavelet_networks/wavelet_networks/wavelet_networks_venv/lib64/python3.6/site-packages/tqdm/auto.py:22: TqdmWarning: IProgress not found. Please update jupyter and ipywidgets. See https://ipywidgets.readthedocs.io/en/stable/user_install.html\n",
      "  from .autonotebook import tqdm as notebook_tqdm\n"
     ]
    }
   ],
   "source": [
    "from wave_networks.prepare_data import *\n",
    "\n",
    "path = \"/homes/55/bwilop/gdl/ablation_study_wavelet_networks/calculated_data/preprocessed_data.pkl\"\n",
    "dataset_audio_timeseries = compute_dataset_audio_timeseries(path, urbansound8k)"
   ]
  },
  {
   "cell_type": "code",
   "execution_count": 7,
   "metadata": {},
   "outputs": [
    {
     "name": "stdout",
     "output_type": "stream",
     "text": [
      "torch.Size([6273, 90000])\n",
      "torch.Size([806, 90000])\n",
      "torch.Size([1653, 90000])\n"
     ]
    }
   ],
   "source": [
    "print(dataset_audio_timeseries.train_data.shape)\n",
    "print(dataset_audio_timeseries.validation_data.shape)\n",
    "print(dataset_audio_timeseries.test_data.shape)"
   ]
  },
  {
   "cell_type": "code",
   "execution_count": null,
   "metadata": {},
   "outputs": [],
   "source": []
  }
 ],
 "metadata": {
  "kernelspec": {
   "display_name": "Python (wavelet_networks_venv)",
   "language": "python",
   "name": "wavelet_networks_venv"
  },
  "language_info": {
   "codemirror_mode": {
    "name": "ipython",
    "version": 3
   },
   "file_extension": ".py",
   "mimetype": "text/x-python",
   "name": "python",
   "nbconvert_exporter": "python",
   "pygments_lexer": "ipython3",
   "version": "3.6.8"
  }
 },
 "nbformat": 4,
 "nbformat_minor": 2
}
