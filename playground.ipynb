{
 "cells": [
  {
   "cell_type": "code",
   "execution_count": 1,
   "metadata": {},
   "outputs": [
    {
     "name": "stdout",
     "output_type": "stream",
     "text": [
      "Hello World\n"
     ]
    }
   ],
   "source": [
    "import wave_networks.test as test\n",
    "\n",
    "test.hello_world()"
   ]
  },
  {
   "cell_type": "code",
   "execution_count": 2,
   "metadata": {},
   "outputs": [
    {
     "name": "stdout",
     "output_type": "stream",
     "text": [
      "Clip(\n",
      "  audio_path=\"/homes/55/bwilop/gdl/ablation_study_wavelet_networks/data/audio/fold5/139665-9-0-23.wav\",\n",
      "  clip_id=\"139665-9-0-23\",\n",
      "  audio: The clip's audio\n",
      "            * np.ndarray - audio signal\n",
      "            * float - sample rate,\n",
      "  class_id: The clip's class id.\n",
      "            * int - integer representation of the class label (0-9). See Dataset Info in the documentation for mapping,\n",
      "  class_label: The clip's class label.\n",
      "            * str - string class name: air_conditioner, car_horn, children_playing, dog_bark, drilling, engine_idling, gun_shot, jackhammer, siren, street_music,\n",
      "  fold: The clip's fold.\n",
      "            * int - fold number (1-10) to which this clip is allocated. Use these folds for cross validation,\n",
      "  freesound_end_time: The clip's end time in Freesound.\n",
      "            * float - end time in seconds of the clip in the original freesound recording,\n",
      "  freesound_id: The clip's Freesound ID.\n",
      "            * str - ID of the freesound.org recording from which this clip was taken,\n",
      "  freesound_start_time: The clip's start time in Freesound.\n",
      "            * float - start time in seconds of the clip in the original freesound recording,\n",
      "  salience: The clip's salience.\n",
      "            * int - annotator estimate of class sailence in the clip: 1 = foreground, 2 = background,\n",
      "  slice_file_name: The clip's slice filename.\n",
      "            * str - The name of the audio file. The name takes the following format: [fsID]-[classID]-[occurrenceID]-[sliceID].wav,\n",
      "  tags: The clip's tags.\n",
      "            * annotations.Tags - tag (label) of the clip + confidence. In UrbanSound8K every clip has one tag,\n",
      ")\n",
      "8732\n"
     ]
    }
   ],
   "source": [
    "# https://soundata.readthedocs.io/en/latest/source/tutorial.html\n",
    "import soundata\n",
    "urbansound8k = soundata.initialize('urbansound8k', data_home='/homes/55/bwilop/gdl/ablation_study_wavelet_networks/data')\n",
    "# urbansound8k.download()  \n",
    "# urbansound8k.validate() \n",
    "clip = urbansound8k.choice_clip()  \n",
    "print(clip)  \n",
    "print(len(urbansound8k.clip_ids))"
   ]
  },
  {
   "cell_type": "code",
   "execution_count": 3,
   "metadata": {},
   "outputs": [
    {
     "data": {
      "text/plain": [
       "(array([0.06288499, 0.10498973, 0.13549979, ..., 0.0999035 , 0.09920264,\n",
       "        0.08016797], dtype=float32),\n",
       " 44100)"
      ]
     },
     "execution_count": 3,
     "metadata": {},
     "output_type": "execute_result"
    }
   ],
   "source": [
    "clip.audio"
   ]
  },
  {
   "cell_type": "code",
   "execution_count": null,
   "metadata": {},
   "outputs": [],
   "source": [
    "import math\n",
    "import numpy as np\n",
    "import matplotlib.pyplot as plt\n",
    "import pywt\n",
    "\n",
    "def plot_waveform_and_wavelet(clip, wavelet='morl'):\n",
    "    \"\"\"\n",
    "    Plots the waveform and the continuous wavelet transform (CWT) of an audio clip.\n",
    "    \n",
    "    The wavelet transform is computed using scales that are powers of 2 (i.e. 1, 2, 4, 8, ...)\n",
    "    up to the maximal power of 2 that is still smaller than the length of the audio signal.\n",
    "    \n",
    "    Parameters\n",
    "    ----------\n",
    "    clip : soundata clip object\n",
    "        A clip object returned by soundata.initialize(...).choice_clip() or similar.\n",
    "        It must provide clip.audio which returns a tuple (signal, sample_rate).\n",
    "    wavelet : str, optional\n",
    "        The type of wavelet to use for the CWT (default is 'morl').\n",
    "    \"\"\"\n",
    "    # Extract audio samples and sampling rate\n",
    "    signal, sr = clip.audio\n",
    "    time_axis = np.linspace(0, len(signal) / sr, num=len(signal))\n",
    "    \n",
    "    # Determine the maximum power of 2 that is smaller than the length of the signal.\n",
    "    max_power = int(math.floor(math.log2(len(signal))))\n",
    "    # Ensure that 2**max_power is strictly less than len(signal)\n",
    "    if 2**max_power >= len(signal):\n",
    "        max_power -= 1\n",
    "    # Define scales: powers of 2 from 2**0 up to 2**max_power\n",
    "    max_power = min(20, max_power)\n",
    "    scales = [2**i for i in range(max_power + 1)]\n",
    "    \n",
    "    # Compute the CWT using the specified wavelet and the defined scales\n",
    "    coeffs, freqs = pywt.cwt(signal, scales, wavelet, sampling_period=1/sr)\n",
    "    log_coeffs = np.log10(np.abs(coeffs) + 0.1)\n",
    "    \n",
    "    # Create a figure with two subplots: one for the waveform and one for the wavelet transform\n",
    "    fig, axs = plt.subplots(2, 1, figsize=(14, 10), sharex=True)\n",
    "    \n",
    "    # Plot the waveform on the top subplot\n",
    "    axs[0].plot(time_axis, signal, color='black')\n",
    "    axs[0].set_title(\"Audio Waveform\")\n",
    "    axs[0].set_ylabel(\"Amplitude\")\n",
    "    axs[0].grid(True)\n",
    "    \n",
    "    # Plot the wavelet transform on the bottom subplot\n",
    "    im = axs[1].imshow(\n",
    "        log_coeffs,\n",
    "        extent=[time_axis[0], time_axis[-1], scales[-1], scales[0]],\n",
    "        cmap='viridis',\n",
    "        aspect='auto'\n",
    "    )\n",
    "    axs[1].invert_yaxis()  # so that lower scales (higher frequencies) are on top\n",
    "    axs[1].set_title(f\"Continuous Wavelet Transform (Wavelet: {wavelet})\")\n",
    "    axs[1].set_xlabel(\"Time (s)\")\n",
    "    axs[1].set_ylabel(\"Scale (powers of 2)\")\n",
    "    fig.colorbar(im, ax=axs[1], label='Magnitude')\n",
    "    \n",
    "    plt.tight_layout()\n",
    "    plt.show()\n",
    "\n",
    "\n",
    "plot_waveform_and_wavelet(clip, wavelet='morl')"
   ]
  },
  {
   "cell_type": "code",
   "execution_count": null,
   "metadata": {},
   "outputs": [],
   "source": []
  }
 ],
 "metadata": {
  "kernelspec": {
   "display_name": "Python (wavelet_networks_venv)",
   "language": "python",
   "name": "wavelet_networks_venv"
  },
  "language_info": {
   "codemirror_mode": {
    "name": "ipython",
    "version": 3
   },
   "file_extension": ".py",
   "mimetype": "text/x-python",
   "name": "python",
   "nbconvert_exporter": "python",
   "pygments_lexer": "ipython3",
   "version": "3.6.8"
  }
 },
 "nbformat": 4,
 "nbformat_minor": 2
}
